{
 "cells": [
  {
   "cell_type": "code",
   "execution_count": 23,
   "metadata": {},
   "outputs": [],
   "source": [
    "from pydub import AudioSegment\n",
    "import os"
   ]
  },
  {
   "cell_type": "code",
   "execution_count": 24,
   "metadata": {},
   "outputs": [],
   "source": [
    "# Path folder input dan output\n",
    "input_folder = r\"d:\\UNIVERSITAS PERTAMINA\\Semester 5\\PSD\\Tubes\\Data Prepocessing\\Mentah\\Bambang\\Bambang\"\n",
    "output_folder = r\"d:\\UNIVERSITAS PERTAMINA\\Semester 5\\PSD\\Tubes\\Data Prepocessing\\Hasil\\sunda\\bambang\""
   ]
  },
  {
   "cell_type": "code",
   "execution_count": 25,
   "metadata": {},
   "outputs": [],
   "source": [
    "# Membuat folder output jika belum ada\n",
    "if not os.path.exists(output_folder):\n",
    "    os.makedirs(output_folder)"
   ]
  },
  {
   "cell_type": "code",
   "execution_count": 26,
   "metadata": {},
   "outputs": [
    {
     "name": "stdout",
     "output_type": "stream",
     "text": [
      "Mengonversi file: 13 Jan 23.03​(2).m4a...\n",
      "Berhasil dikonversi: d:\\UNIVERSITAS PERTAMINA\\Semester 5\\PSD\\Tubes\\Data Prepocessing\\Hasil\\sunda\\bambang\\13 Jan 23.03​(2).wav\n",
      "Mengonversi file: 13 Jan 23.03​.m4a...\n",
      "Berhasil dikonversi: d:\\UNIVERSITAS PERTAMINA\\Semester 5\\PSD\\Tubes\\Data Prepocessing\\Hasil\\sunda\\bambang\\13 Jan 23.03​.wav\n",
      "Mengonversi file: 13 Jan 23.04​(2).m4a...\n",
      "Berhasil dikonversi: d:\\UNIVERSITAS PERTAMINA\\Semester 5\\PSD\\Tubes\\Data Prepocessing\\Hasil\\sunda\\bambang\\13 Jan 23.04​(2).wav\n",
      "Mengonversi file: 13 Jan 23.04​.m4a...\n",
      "Berhasil dikonversi: d:\\UNIVERSITAS PERTAMINA\\Semester 5\\PSD\\Tubes\\Data Prepocessing\\Hasil\\sunda\\bambang\\13 Jan 23.04​.wav\n",
      "Mengonversi file: 13 Jan 23.05​(2).m4a...\n",
      "Berhasil dikonversi: d:\\UNIVERSITAS PERTAMINA\\Semester 5\\PSD\\Tubes\\Data Prepocessing\\Hasil\\sunda\\bambang\\13 Jan 23.05​(2).wav\n",
      "Mengonversi file: 13 Jan 23.05​(3).m4a...\n",
      "Berhasil dikonversi: d:\\UNIVERSITAS PERTAMINA\\Semester 5\\PSD\\Tubes\\Data Prepocessing\\Hasil\\sunda\\bambang\\13 Jan 23.05​(3).wav\n",
      "Mengonversi file: 13 Jan 23.05​(4).m4a...\n",
      "Berhasil dikonversi: d:\\UNIVERSITAS PERTAMINA\\Semester 5\\PSD\\Tubes\\Data Prepocessing\\Hasil\\sunda\\bambang\\13 Jan 23.05​(4).wav\n",
      "Mengonversi file: 13 Jan 23.05​.m4a...\n",
      "Berhasil dikonversi: d:\\UNIVERSITAS PERTAMINA\\Semester 5\\PSD\\Tubes\\Data Prepocessing\\Hasil\\sunda\\bambang\\13 Jan 23.05​.wav\n",
      "Mengonversi file: 13 Jan 23.06​(2).m4a...\n",
      "Berhasil dikonversi: d:\\UNIVERSITAS PERTAMINA\\Semester 5\\PSD\\Tubes\\Data Prepocessing\\Hasil\\sunda\\bambang\\13 Jan 23.06​(2).wav\n",
      "Mengonversi file: 13 Jan 23.06​.m4a...\n",
      "Berhasil dikonversi: d:\\UNIVERSITAS PERTAMINA\\Semester 5\\PSD\\Tubes\\Data Prepocessing\\Hasil\\sunda\\bambang\\13 Jan 23.06​.wav\n"
     ]
    }
   ],
   "source": [
    "# Iterasi untuk semua file dalam folder input\n",
    "for filename in os.listdir(input_folder):\n",
    "    if filename.endswith(\".m4a\"):  # Cek apakah file berformat M4A\n",
    "        input_file = os.path.join(input_folder, filename)\n",
    "        output_file = os.path.join(output_folder, os.path.splitext(filename)[0] + \".wav\")\n",
    "        \n",
    "        try:\n",
    "            print(f\"Mengonversi file: {filename}...\")\n",
    "            # Membaca file M4A dan mengonversi ke WAV\n",
    "            audio = AudioSegment.from_file(input_file)\n",
    "            audio.export(output_file, format=\"wav\")\n",
    "            print(f\"Berhasil dikonversi: {output_file}\")\n",
    "        except Exception as e:\n",
    "            print(f\"Gagal mengonversi {filename}. Error: {e}\")"
   ]
  }
 ],
 "metadata": {
  "kernelspec": {
   "display_name": "Python 3",
   "language": "python",
   "name": "python3"
  },
  "language_info": {
   "codemirror_mode": {
    "name": "ipython",
    "version": 3
   },
   "file_extension": ".py",
   "mimetype": "text/x-python",
   "name": "python",
   "nbconvert_exporter": "python",
   "pygments_lexer": "ipython3",
   "version": "3.12.4"
  }
 },
 "nbformat": 4,
 "nbformat_minor": 2
}
