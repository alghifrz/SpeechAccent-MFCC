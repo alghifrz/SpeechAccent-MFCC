{
 "cells": [
  {
   "cell_type": "code",
   "execution_count": 11,
   "metadata": {},
   "outputs": [],
   "source": [
    "import os\n",
    "import librosa\n",
    "import numpy as np\n",
    "import pickle"
   ]
  },
  {
   "cell_type": "code",
   "execution_count": 12,
   "metadata": {},
   "outputs": [],
   "source": [
    "# Path folder input WAV dan folder output MFCC\n",
    "input_folder = r\"d:\\UNIVERSITAS PERTAMINA\\Semester 5\\PSD\\Tubes\\Data Prepocessing\\Hasil\\sunda\\bambang\"\n",
    "output_folder = r\"d:\\UNIVERSITAS PERTAMINA\\Semester 5\\PSD\\Tubes\\Hasil MFCC\\sunda\\bambang\""
   ]
  },
  {
   "cell_type": "code",
   "execution_count": 13,
   "metadata": {},
   "outputs": [],
   "source": [
    "# Membuat folder output jika belum ada\n",
    "if not os.path.exists(output_folder):\n",
    "    os.makedirs(output_folder)"
   ]
  },
  {
   "cell_type": "code",
   "execution_count": 14,
   "metadata": {},
   "outputs": [],
   "source": [
    "# Fungsi untuk mengubah WAV menjadi MFCC\n",
    "def process_wav_to_mfcc(input_file, output_file):\n",
    "    try:\n",
    "        # Load file WAV\n",
    "        audio, sr = librosa.load(input_file, sr=None)\n",
    "        # Ekstraksi MFCC\n",
    "        mfcc = librosa.feature.mfcc(y=audio, sr=sr, n_mfcc=13)\n",
    "        # Simpan MFCC ke file menggunakan pickle\n",
    "        with open(output_file, 'wb') as f:\n",
    "            pickle.dump(mfcc, f)\n",
    "        print(f\"Berhasil memproses file MFCC: {output_file}\")\n",
    "    except Exception as e:\n",
    "        print(f\"Gagal memproses file {input_file}. Error: {e}\")"
   ]
  },
  {
   "cell_type": "code",
   "execution_count": 15,
   "metadata": {},
   "outputs": [
    {
     "name": "stdout",
     "output_type": "stream",
     "text": [
      "Berhasil memproses file MFCC: d:\\UNIVERSITAS PERTAMINA\\Semester 5\\PSD\\Tubes\\Hasil MFCC\\sunda\\bambang\\13 Jan 23.03​(2).pkl\n",
      "Berhasil memproses file MFCC: d:\\UNIVERSITAS PERTAMINA\\Semester 5\\PSD\\Tubes\\Hasil MFCC\\sunda\\bambang\\13 Jan 23.03​.pkl\n",
      "Berhasil memproses file MFCC: d:\\UNIVERSITAS PERTAMINA\\Semester 5\\PSD\\Tubes\\Hasil MFCC\\sunda\\bambang\\13 Jan 23.04​(2).pkl\n",
      "Berhasil memproses file MFCC: d:\\UNIVERSITAS PERTAMINA\\Semester 5\\PSD\\Tubes\\Hasil MFCC\\sunda\\bambang\\13 Jan 23.04​.pkl\n",
      "Berhasil memproses file MFCC: d:\\UNIVERSITAS PERTAMINA\\Semester 5\\PSD\\Tubes\\Hasil MFCC\\sunda\\bambang\\13 Jan 23.05​(2).pkl\n",
      "Berhasil memproses file MFCC: d:\\UNIVERSITAS PERTAMINA\\Semester 5\\PSD\\Tubes\\Hasil MFCC\\sunda\\bambang\\13 Jan 23.05​(3).pkl\n",
      "Berhasil memproses file MFCC: d:\\UNIVERSITAS PERTAMINA\\Semester 5\\PSD\\Tubes\\Hasil MFCC\\sunda\\bambang\\13 Jan 23.05​(4).pkl\n",
      "Berhasil memproses file MFCC: d:\\UNIVERSITAS PERTAMINA\\Semester 5\\PSD\\Tubes\\Hasil MFCC\\sunda\\bambang\\13 Jan 23.05​.pkl\n",
      "Berhasil memproses file MFCC: d:\\UNIVERSITAS PERTAMINA\\Semester 5\\PSD\\Tubes\\Hasil MFCC\\sunda\\bambang\\13 Jan 23.06​(2).pkl\n",
      "Berhasil memproses file MFCC: d:\\UNIVERSITAS PERTAMINA\\Semester 5\\PSD\\Tubes\\Hasil MFCC\\sunda\\bambang\\13 Jan 23.06​.pkl\n",
      "Proses ekstraksi MFCC selesai!\n"
     ]
    }
   ],
   "source": [
    "# Iterasi untuk semua file WAV dalam folder input\n",
    "for filename in os.listdir(input_folder):\n",
    "    if filename.endswith(\".wav\"):  # Cek apakah file berformat WAV\n",
    "        input_file = os.path.join(input_folder, filename)\n",
    "        output_file = os.path.join(output_folder, os.path.splitext(filename)[0] + \".pkl\")  # Simpan sebagai file pickle\n",
    "        process_wav_to_mfcc(input_file, output_file)\n",
    "\n",
    "print(\"Proses ekstraksi MFCC selesai!\")"
   ]
  }
 ],
 "metadata": {
  "kernelspec": {
   "display_name": "Python 3",
   "language": "python",
   "name": "python3"
  },
  "language_info": {
   "codemirror_mode": {
    "name": "ipython",
    "version": 3
   },
   "file_extension": ".py",
   "mimetype": "text/x-python",
   "name": "python",
   "nbconvert_exporter": "python",
   "pygments_lexer": "ipython3",
   "version": "3.12.4"
  }
 },
 "nbformat": 4,
 "nbformat_minor": 2
}
